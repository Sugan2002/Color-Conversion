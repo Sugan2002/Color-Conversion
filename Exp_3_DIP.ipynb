{
 "cells": [
  {
   "cell_type": "code",
   "execution_count": 2,
   "id": "94a35ed2",
   "metadata": {},
   "outputs": [
    {
     "data": {
      "text/plain": [
       "-1"
      ]
     },
     "execution_count": 2,
     "metadata": {},
     "output_type": "execute_result"
    }
   ],
   "source": [
    "import cv2\n",
    "flower = cv2.imread('flower.jpg')\n",
    "modimg1 = cv2.cvtColor(flower,cv2.COLOR_BGR2HSV)\n",
    "cv2.imshow('COLOR_BGR2HSV',modimg1)\n",
    "cv2.waitKey(0)\n",
    "modimg2 = cv2.cvtColor(flower,cv2.COLOR_RGB2HSV)\n",
    "cv2.imshow('COLOR_RGB2HSV',modimg2)\n",
    "cv2.waitKey(0)\n",
    "modimg3 = cv2.cvtColor(flower,cv2.COLOR_RGB2GRAY)\n",
    "cv2.imshow('RGB2GRAY',modimg3)\n",
    "cv2.waitKey(0)\n",
    "modimg4 = cv2.cvtColor(flower,cv2.COLOR_BGR2GRAY)\n",
    "cv2.imshow('BGR2GRAY',modimg4)\n",
    "cv2.waitKey(0)"
   ]
  },
  {
   "cell_type": "code",
   "execution_count": 3,
   "id": "60cb2cbb",
   "metadata": {},
   "outputs": [
    {
     "data": {
      "text/plain": [
       "-1"
      ]
     },
     "execution_count": 3,
     "metadata": {},
     "output_type": "execute_result"
    }
   ],
   "source": [
    "modimg5 = cv2.cvtColor(flower,cv2.COLOR_HSV2BGR)\n",
    "cv2.imshow('COLOR_RGB2HSV',modimg5)\n",
    "cv2.waitKey(0)\n",
    "modimg6 = cv2.cvtColor(flower,cv2.COLOR_HSV2RGB)\n",
    "cv2.imshow('COLOR_HSV2RGB',modimg6)\n",
    "cv2.waitKey(0)\n"
   ]
  },
  {
   "cell_type": "code",
   "execution_count": 4,
   "id": "0c3ba303",
   "metadata": {},
   "outputs": [
    {
     "data": {
      "text/plain": [
       "-1"
      ]
     },
     "execution_count": 4,
     "metadata": {},
     "output_type": "execute_result"
    }
   ],
   "source": [
    "modimg7 = cv2.cvtColor(flower,cv2.COLOR_RGB2YCrCb)\n",
    "cv2.imshow('RGB2YCrCb',modimg7)\n",
    "cv2.waitKey(0)\n",
    "modimg8 = cv2.cvtColor(flower,cv2.COLOR_BGR2YCrCb)\n",
    "cv2.imshow('RCB2YCrCb',modimg8)\n",
    "cv2.waitKey(0)\n"
   ]
  },
  {
   "cell_type": "code",
   "execution_count": 14,
   "id": "1f2c76e3",
   "metadata": {},
   "outputs": [
    {
     "data": {
      "text/plain": [
       "array([[[254, 254, 254],\n",
       "        [254, 254, 254],\n",
       "        [254, 254, 254],\n",
       "        ...,\n",
       "        [254, 254, 254],\n",
       "        [254, 254, 254],\n",
       "        [254, 254, 254]],\n",
       "\n",
       "       [[254, 254, 254],\n",
       "        [254, 254, 254],\n",
       "        [254, 254, 254],\n",
       "        ...,\n",
       "        [254, 254, 254],\n",
       "        [254, 254, 254],\n",
       "        [254, 254, 254]],\n",
       "\n",
       "       [[254, 254, 254],\n",
       "        [254, 254, 254],\n",
       "        [254, 254, 254],\n",
       "        ...,\n",
       "        [254, 254, 254],\n",
       "        [254, 254, 254],\n",
       "        [254, 254, 254]],\n",
       "\n",
       "       ...,\n",
       "\n",
       "       [[254, 254, 254],\n",
       "        [254, 254, 254],\n",
       "        [254, 254, 254],\n",
       "        ...,\n",
       "        [254, 254, 254],\n",
       "        [254, 254, 254],\n",
       "        [254, 254, 254]],\n",
       "\n",
       "       [[254, 254, 254],\n",
       "        [254, 254, 254],\n",
       "        [254, 254, 254],\n",
       "        ...,\n",
       "        [254, 254, 254],\n",
       "        [254, 254, 254],\n",
       "        [254, 254, 254]],\n",
       "\n",
       "       [[254, 254, 254],\n",
       "        [254, 254, 254],\n",
       "        [254, 254, 254],\n",
       "        ...,\n",
       "        [254, 254, 254],\n",
       "        [254, 254, 254],\n",
       "        [254, 254, 254]]], dtype=uint8)"
      ]
     },
     "execution_count": 14,
     "metadata": {},
     "output_type": "execute_result"
    }
   ],
   "source": [
    "image = flower;\n",
    "red = image[:,:,0]\n",
    "green = image[:,:,1]\n",
    "blue = image[:,:,2]\n",
    "cv2.merge((blue,green,red))"
   ]
  },
  {
   "cell_type": "code",
   "execution_count": 13,
   "id": "cd9163e7",
   "metadata": {},
   "outputs": [
    {
     "data": {
      "text/plain": [
       "-1"
      ]
     },
     "execution_count": 13,
     "metadata": {},
     "output_type": "execute_result"
    }
   ],
   "source": [
    "hsv_image = cv2.cvtColor(flower, cv2.COLOR_BGR2HSV)\n",
    "h, s, v = cv2.split(hsv_image)\n",
    "s.fill(255)\n",
    "v.fill(255)\n",
    "hsv_image = cv2.merge([h, s, v])\n",
    "cv2.imshow('example', hsv_image)\n",
    "cv2.waitKey()"
   ]
  },
  {
   "cell_type": "code",
   "execution_count": null,
   "id": "1b460673",
   "metadata": {},
   "outputs": [],
   "source": []
  }
 ],
 "metadata": {
  "kernelspec": {
   "display_name": "Python 3 (ipykernel)",
   "language": "python",
   "name": "python3"
  },
  "language_info": {
   "codemirror_mode": {
    "name": "ipython",
    "version": 3
   },
   "file_extension": ".py",
   "mimetype": "text/x-python",
   "name": "python",
   "nbconvert_exporter": "python",
   "pygments_lexer": "ipython3",
   "version": "3.9.7"
  }
 },
 "nbformat": 4,
 "nbformat_minor": 5
}
